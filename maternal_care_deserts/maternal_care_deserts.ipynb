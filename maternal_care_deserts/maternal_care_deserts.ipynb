{
 "cells": [
  {
   "cell_type": "markdown",
   "metadata": {},
   "source": [
    "# Maternal care deserts\n",
    "This notebook is structured based on a [project scoping guide](http://www.datasciencepublicpolicy.org/our-work/tools-guides/data-science-project-scoping-guide/) provided by Carnegie Mellon University.\n",
    "<br>\n",
    "<br>\n",
    "**GOAL:** TBD\n",
    "<br>\n",
    "**DATA:** Publically avaialable data on maternal care deserts will be scrapped from the [March of Dimes](https://www.marchofdimes.org/peristats/data?reg=99&top=23&slev=4&sreg=11) website.<br>\n",
    "**ANALYSIS:** TBD<br>\n",
    "**ETHICAL CONSIDERATIONS:** TBD <br>\n",
    "**ADDITIONAL CONSIDERATIONS:** TBD"
   ]
  },
  {
   "cell_type": "markdown",
   "metadata": {},
   "source": [
    "*Stay tuned*"
   ]
  }
 ],
 "metadata": {
  "kernelspec": {
   "display_name": "Python 3",
   "language": "python",
   "name": "python3"
  },
  "language_info": {
   "codemirror_mode": {
    "name": "ipython",
    "version": 3
   },
   "file_extension": ".py",
   "mimetype": "text/x-python",
   "name": "python",
   "nbconvert_exporter": "python",
   "pygments_lexer": "ipython3",
   "version": "3.8.5"
  }
 },
 "nbformat": 4,
 "nbformat_minor": 4
}

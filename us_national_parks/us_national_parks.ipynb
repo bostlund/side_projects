{
 "cells": [
  {
   "cell_type": "markdown",
   "metadata": {},
   "source": [
    "# US National Parks\n",
    "This notebook is structured based on a [project scoping guide](http://www.datasciencepublicpolicy.org/our-work/tools-guides/data-science-project-scoping-guide/) provided by Carnegie Mellon University.<br><br>\n",
    "**GOALS:** ***(1)*** Characterize reactional use of public lands in the United States; and ***(2)*** learn how to scrape and visualize data from a webpage.<br>\n",
    "**DATA:** Publically avaialable data on recreational use of the US national parks will be scrapped from the [National Parks Service (NPS)](https://irma.nps.gov/STATS/) website.<br>\n",
    "**ANALYSIS:** Exploratory data analysis to gain insights into the dataset.<br>\n",
    "**ETHICAL CONSIDERATIONS:** There are no apparent issues with privacy, transparency,\n",
    "discrimination/equity, or accountability in terms of avaiable data. Whether access to the national parks is equitable across communities in the US should be considered further. The NPS has begun administering a [survey](https://www.nps.gov/subjects/socialscience/socioeconomic-monitoring-visitor-surveys.htm) to understand who accesses the parks, and whether access differs as a function of demographic and economic factors. I'd like to incorporate data from that survey into this notebook when it becomes publically available.<br>\n",
    "**ADDITIONAL CONSIDERATIONS:** None."
   ]
  },
  {
   "cell_type": "markdown",
   "metadata": {},
   "source": [
    "## Load libraries"
   ]
  },
  {
   "cell_type": "code",
   "execution_count": 1,
   "metadata": {},
   "outputs": [],
   "source": [
    "import pandas as pd\n",
    "import requests as rq\n",
    "from bs4 import BeautifulSoup"
   ]
  },
  {
   "cell_type": "markdown",
   "metadata": {},
   "source": [
    "## Gather list US national parks \n",
    "First step is to compile a list of the national parks in the United States. For practice, I will scrape this information from this [wiki page](https://en.wikipedia.org/wiki/List_of_national_parks_of_the_United_States). "
   ]
  },
  {
   "cell_type": "code",
   "execution_count": 2,
   "metadata": {},
   "outputs": [],
   "source": [
    "# url to scrape information from\n",
    "wiki = 'https://en.wikipedia.org/wiki/List_of_national_parks_of_the_United_States'"
   ]
  },
  {
   "cell_type": "code",
   "execution_count": 3,
   "metadata": {
    "scrolled": true
   },
   "outputs": [],
   "source": [
    "# extract HTML text\n",
    "page = rq.get(wiki).text\n",
    "\n",
    "# convert to BeautifulSoup object\n",
    "soup = BeautifulSoup(page)"
   ]
  },
  {
   "cell_type": "code",
   "execution_count": 4,
   "metadata": {
    "scrolled": true
   },
   "outputs": [],
   "source": [
    "# pull <table> tag that match our class name\n",
    "table = soup.find('table', class_ = 'wikitable sortable plainrowheaders')\n",
    "\n",
    "# find <tr> tags in our specified table, ignoring the labels row\n",
    "parks_table = table.find_all('tr')[1:]"
   ]
  },
  {
   "cell_type": "code",
   "execution_count": 5,
   "metadata": {
    "scrolled": false
   },
   "outputs": [],
   "source": [
    "# create empty list to store park names\n",
    "park_names = []"
   ]
  },
  {
   "cell_type": "code",
   "execution_count": 6,
   "metadata": {},
   "outputs": [],
   "source": [
    "# Loop through each park in the website's table\n",
    "for park in parks_table:\n",
    "    \n",
    "    # extract park name from <a> tag\n",
    "    name = park.find('a').get('title')\n",
    "        \n",
    "    # extract park latitude from <span class='latitude'> tag\n",
    "    latitude = park.find(attrs={'class':'span', 'class':'latitude'})\n",
    "    latitude = latitude.text\n",
    "    \n",
    "    # extract park longitude from <span class='longitude'> tag\n",
    "    longitude = park.find(attrs={'class':'span', 'class':'longitude'})\n",
    "    longitude = longitude.text\n",
    "    \n",
    "    # append information to full parks list\n",
    "    park_names.append([name, latitude, longitude])"
   ]
  },
  {
   "cell_type": "code",
   "execution_count": 7,
   "metadata": {},
   "outputs": [
    {
     "name": "stdout",
     "output_type": "stream",
     "text": [
      "[['Acadia National Park', '44°21′N', '68°13′W'], ['National Park of American Samoa', '14°15′S', '170°41′W'], ['Arches National Park', '38°41′N', '109°34′W'], ['Badlands National Park', '43°45′N', '102°30′W'], ['Big Bend National Park', '29°15′N', '103°15′W'], ['Biscayne National Park', '25°39′N', '80°05′W'], ['Black Canyon of the Gunnison National Park', '38°34′N', '107°43′W'], ['Bryce Canyon National Park', '37°34′N', '112°11′W'], ['Canyonlands National Park', '38°12′N', '109°56′W'], ['Capitol Reef National Park', '38°12′N', '111°10′W'], ['Carlsbad Caverns National Park', '32°10′N', '104°26′W'], ['Channel Islands National Park', '34°01′N', '119°25′W'], ['Congaree National Park', '33°47′N', '80°47′W'], ['Crater Lake National Park', '42°56′N', '122°06′W'], ['Cuyahoga Valley National Park', '41°14′N', '81°33′W'], ['Death Valley National Park', '36°14′N', '116°49′W'], ['Denali National Park and Preserve', '63°20′N', '150°30′W'], ['Dry Tortugas National Park', '24°38′N', '82°52′W'], ['Everglades National Park', '25°19′N', '80°56′W'], ['Gates of the Arctic National Park and Preserve', '67°47′N', '153°18′W'], ['Gateway Arch National Park', '38°38′N', '90°11′W'], ['Glacier National Park (U.S.)', '48°48′N', '114°00′W'], ['Glacier Bay National Park and Preserve', '58°30′N', '137°00′W'], ['Grand Canyon National Park', '36°04′N', '112°08′W'], ['Grand Teton National Park', '43°44′N', '110°48′W'], ['Great Basin National Park', '38°59′N', '114°18′W'], ['Great Sand Dunes National Park and Preserve', '37°44′N', '105°31′W'], ['Great Smoky Mountains National Park', '35°41′N', '83°32′W'], ['Guadalupe Mountains National Park', '31°55′N', '104°52′W'], ['Haleakalā National Park', '20°43′N', '156°10′W'], ['Hawaiʻi Volcanoes National Park', '19°23′N', '155°12′W'], ['Hot Springs National Park', '34°31′N', '93°03′W'], ['Indiana Dunes National Park', '41°39′12″N', '87°03′09″W'], ['Isle Royale National Park', '48°06′N', '88°33′W'], ['Joshua Tree National Park', '33°47′N', '115°54′W'], ['Katmai National Park and Preserve', '58°30′N', '155°00′W'], ['Kenai Fjords National Park', '59°55′N', '149°39′W'], ['Kings Canyon National Park', '36°48′N', '118°33′W'], ['Kobuk Valley National Park', '67°33′N', '159°17′W'], ['Lake Clark National Park and Preserve', '60°58′N', '153°25′W'], ['Lassen Volcanic National Park', '40°29′N', '121°31′W'], ['Mammoth Cave National Park', '37°11′N', '86°06′W'], ['Mesa Verde National Park', '37°11′N', '108°29′W'], ['Mount Rainier National Park', '46°51′N', '121°45′W'], ['New River Gorge National Park and Preserve', '38°04′N', '81°05′W'], ['North Cascades National Park', '48°42′N', '121°12′W'], ['Olympic National Park', '47°58′N', '123°30′W'], ['Petrified Forest National Park', '35°04′N', '109°47′W'], ['Pinnacles National Park', '36°29′N', '121°10′W'], ['Redwood National and State Parks', '41°18′N', '124°00′W'], ['Rocky Mountain National Park', '40°24′N', '105°35′W'], ['Saguaro National Park', '32°15′N', '110°30′W'], ['Sequoia National Park', '36°26′N', '118°41′W'], ['Shenandoah National Park', '38°32′N', '78°21′W'], ['Theodore Roosevelt National Park', '46°58′N', '103°27′W'], ['Virgin Islands National Park', '18°20′N', '64°44′W'], ['Voyageurs National Park', '48°30′N', '92°53′W'], ['White Sands National Park', '32°47′N', '106°10′W'], ['Wind Cave National Park', '43°34′N', '103°29′W'], ['Wrangell–St. Elias National Park and Preserve', '61°00′N', '142°00′W'], ['Yellowstone National Park', '44°36′N', '110°30′W'], ['Yosemite National Park', '37°50′N', '119°30′W'], ['Zion National Park', '37°18′N', '113°03′W']]\n"
     ]
    }
   ],
   "source": [
    "print(park_names)"
   ]
  },
  {
   "cell_type": "markdown",
   "metadata": {},
   "source": [
    "Great! We now have a list that contains names and coordinates of the sixty-three national parks in the United States."
   ]
  },
  {
   "cell_type": "markdown",
   "metadata": {},
   "source": [
    "## Access data from NPS"
   ]
  },
  {
   "cell_type": "code",
   "execution_count": 8,
   "metadata": {},
   "outputs": [],
   "source": [
    "# url to scrape information from\n",
    "nps = 'https://irma.nps.gov/STATS/SSRSReports/Park%20Specific%20Reports/Recreation%20Visitors%20By%20Month%20(1979%20-%20Last%20Calendar%20Year)?Park={}'"
   ]
  },
  {
   "cell_type": "code",
   "execution_count": 9,
   "metadata": {},
   "outputs": [],
   "source": [
    "# create list of NPS-defined park abbreviations\n",
    "parks = ['ACAD', 'ARCH', 'BADL', 'BIBE', 'BISC', 'BLCA', 'BRCA', 'CANY', 'CARE', 'CAVE', \n",
    "         'CHIS', 'CONG', 'CRLA', 'CUVA', 'DEVA', 'DENA', 'DRTO', 'EVER', 'GAAR', 'JEFF', \n",
    "         'GLBA', 'GLAC', 'GRCA', 'GRTE', 'GRBA', 'GRSA', 'GRSM', 'GUMO', 'HALE', 'HAVO', \n",
    "         'HOSP', 'INDU', 'ISRO', 'JOTR', 'KATM', 'KEFJ', 'KICA', 'KOVA', 'LACL', 'LAVO', \n",
    "         'MACA', 'MEVE', 'MORA', 'NERI', 'NPAS', 'NOCA', 'OLYM', 'PEFO', 'PINN', 'REDW', \n",
    "         'ROMO', 'SAGU', 'SEQU', 'SHEN', 'THRO', 'VIIS', 'VOYA', 'WHSA', 'WICA', 'WRST', \n",
    "         'YELL', 'YOSE', 'ZION']"
   ]
  },
  {
   "cell_type": "code",
   "execution_count": 10,
   "metadata": {},
   "outputs": [],
   "source": [
    "# create empty list to store park data\n",
    "#parks_data = []\n",
    "\n",
    "# temporary parks list for testing\n",
    "test_park = parks[0]"
   ]
  },
  {
   "cell_type": "code",
   "execution_count": 11,
   "metadata": {
    "scrolled": true
   },
   "outputs": [
    {
     "name": "stdout",
     "output_type": "stream",
     "text": [
      "\n",
      "\n",
      "\n",
      "\n",
      "<!DOCTYPE html>\n",
      "<html xmlns=\"http://www.w3.org/1999/xhtml\">\n",
      "<head>\n",
      "    <title>Stats Report Viewer</title>\n",
      "    <link rel=\"shortcut icon\" type=\"image/x-icon\" href=\"https://irmafiles.nps.gov/WebContent/Irma/Common/v1_0_0/Images/favicon.ico\" />\n",
      "</head>\n",
      "<body>\n",
      "\n",
      "<iframe Height=\"900px\" Width=\"100%\" src=\"/STATS/MvcReportViewer.aspx?_id=7c6bd428-cb13-4b0a-8565-337cefaa418b&amp;_m=Remote&amp;_r=%2fNPS.Stats.Reports%2fPark+Specific+Reports%2fRecreation+Visitors+By+Month+(1979+-+Last+Calendar+Year)&amp;_15=True&amp;_16=True&amp;_18=True&amp;_19=True&amp;_34=False&amp;_35=False&amp;_39=880px&amp;Park=A\" style=\"border: none\"></iframe></body>\n",
      "</html>\n",
      "\n",
      "\n",
      "\n",
      "\n",
      "<!DOCTYPE html>\n",
      "<html xmlns=\"http://www.w3.org/1999/xhtml\">\n",
      "<head>\n",
      "    <title>Stats Report Viewer</title>\n",
      "    <link rel=\"shortcut icon\" type=\"image/x-icon\" href=\"https://irmafiles.nps.gov/WebContent/Irma/Common/v1_0_0/Images/favicon.ico\" />\n",
      "</head>\n",
      "<body>\n",
      "\n",
      "<iframe Height=\"900px\" Width=\"100%\" src=\"/STATS/MvcReportViewer.aspx?_id=a5b232a3-304f-4d94-a7a9-6ba48bb632fe&amp;_m=Remote&amp;_r=%2fNPS.Stats.Reports%2fPark+Specific+Reports%2fRecreation+Visitors+By+Month+(1979+-+Last+Calendar+Year)&amp;_15=True&amp;_16=True&amp;_18=True&amp;_19=True&amp;_34=False&amp;_35=False&amp;_39=880px&amp;Park=C\" style=\"border: none\"></iframe></body>\n",
      "</html>\n",
      "\n",
      "\n",
      "\n",
      "\n",
      "<!DOCTYPE html>\n",
      "<html xmlns=\"http://www.w3.org/1999/xhtml\">\n",
      "<head>\n",
      "    <title>Stats Report Viewer</title>\n",
      "    <link rel=\"shortcut icon\" type=\"image/x-icon\" href=\"https://irmafiles.nps.gov/WebContent/Irma/Common/v1_0_0/Images/favicon.ico\" />\n",
      "</head>\n",
      "<body>\n",
      "\n",
      "<iframe Height=\"900px\" Width=\"100%\" src=\"/STATS/MvcReportViewer.aspx?_id=9c7740fc-5144-474b-8ee7-9e64c8623f1a&amp;_m=Remote&amp;_r=%2fNPS.Stats.Reports%2fPark+Specific+Reports%2fRecreation+Visitors+By+Month+(1979+-+Last+Calendar+Year)&amp;_15=True&amp;_16=True&amp;_18=True&amp;_19=True&amp;_34=False&amp;_35=False&amp;_39=880px&amp;Park=A\" style=\"border: none\"></iframe></body>\n",
      "</html>\n",
      "\n",
      "\n",
      "\n",
      "\n",
      "<!DOCTYPE html>\n",
      "<html xmlns=\"http://www.w3.org/1999/xhtml\">\n",
      "<head>\n",
      "    <title>Stats Report Viewer</title>\n",
      "    <link rel=\"shortcut icon\" type=\"image/x-icon\" href=\"https://irmafiles.nps.gov/WebContent/Irma/Common/v1_0_0/Images/favicon.ico\" />\n",
      "</head>\n",
      "<body>\n",
      "\n",
      "<iframe Height=\"900px\" Width=\"100%\" src=\"/STATS/MvcReportViewer.aspx?_id=e640cf9c-29aa-4fbe-9b3d-28d0a649e091&amp;_m=Remote&amp;_r=%2fNPS.Stats.Reports%2fPark+Specific+Reports%2fRecreation+Visitors+By+Month+(1979+-+Last+Calendar+Year)&amp;_15=True&amp;_16=True&amp;_18=True&amp;_19=True&amp;_34=False&amp;_35=False&amp;_39=880px&amp;Park=D\" style=\"border: none\"></iframe></body>\n",
      "</html>\n"
     ]
    }
   ],
   "source": [
    "for park in test_park:\n",
    "    \n",
    "    # url to monthly data for each park \n",
    "    url = nps.format(park)\n",
    "    \n",
    "    # extract HTML text\n",
    "    page = rq.get(url).text\n",
    "    print(page)\n",
    "    \n",
    "    # convert to BeautifulSoup object\n",
    "    #soup = BeautifulSoup(page)\n",
    "    \n",
    "    # pull <table> tag that match our class name\n",
    "    #table = soup.find('table', class_ = 'Ae30f20f368af4927806ac09a734045d0170')\n",
    "    \n",
    "    # find <tr> tags in our specified table, ignoring the labels row\n",
    "    #temp_table = table.find_all('tr')\n",
    "    \n",
    "    # extract park name from <a> tag\n",
    "    #xyz = park.find('a').get('xyz')\n",
    "    \n",
    "    # append information to full parks list\n",
    "    #park_data.append(xyz)"
   ]
  },
  {
   "cell_type": "markdown",
   "metadata": {},
   "source": [
    "There seems to be an issue with extracting the HTML text from the webpage. Maybe that's due to javascript? Unclear. There is another popular web-scraping tool called [Selenium](https://oxylabs.io/blog/selenium-web-scraping) that is suppose to work with javascript. I'll try that out next.<br><br>***To be continued***"
   ]
  }
 ],
 "metadata": {
  "kernelspec": {
   "display_name": "Python 3",
   "language": "python",
   "name": "python3"
  },
  "language_info": {
   "codemirror_mode": {
    "name": "ipython",
    "version": 3
   },
   "file_extension": ".py",
   "mimetype": "text/x-python",
   "name": "python",
   "nbconvert_exporter": "python",
   "pygments_lexer": "ipython3",
   "version": "3.8.5"
  }
 },
 "nbformat": 4,
 "nbformat_minor": 4
}

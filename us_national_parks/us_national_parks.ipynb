{
 "cells": [
  {
   "cell_type": "markdown",
   "metadata": {},
   "source": [
    "# US National Parks\n",
    "For organizational purposes, I will be structuring this notebook based on a [project scoping guide](http://www.datasciencepublicpolicy.org/our-work/tools-guides/data-science-project-scoping-guide/) provided by Carnegie Mellon University.\n",
    "<br>\n",
    "**GOAL:** \n",
    "<br>\n",
    "**DATA:**  \n",
    "<br>\n",
    "**ANALYSIS:** Exploratory data analysis to gain insights into the dataset.\n",
    "<br>\n",
    "**ETHICAL CONSIDERATIONS:** There are no apparent issues with privacy, transparency,\n",
    "discrimination/equity, or accountability based on the information provided by the [National Parks Service](https://irma.nps.gov/STATS/).\n",
    "<br>\n",
    "**ADDITIONAL CONSIDERATIONS:** None."
   ]
  },
  {
   "cell_type": "code",
   "execution_count": null,
   "metadata": {},
   "outputs": [],
   "source": []
  }
 ],
 "metadata": {
  "kernelspec": {
   "display_name": "Python 3",
   "language": "python",
   "name": "python3"
  },
  "language_info": {
   "codemirror_mode": {
    "name": "ipython",
    "version": 3
   },
   "file_extension": ".py",
   "mimetype": "text/x-python",
   "name": "python",
   "nbconvert_exporter": "python",
   "pygments_lexer": "ipython3",
   "version": "3.8.5"
  }
 },
 "nbformat": 4,
 "nbformat_minor": 4
}

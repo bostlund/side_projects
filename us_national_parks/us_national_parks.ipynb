{
 "cells": [
  {
   "cell_type": "markdown",
   "metadata": {},
   "source": [
    "# US National Parks\n",
    "This notebook is structured based on a [project scoping guide](http://www.datasciencepublicpolicy.org/our-work/tools-guides/data-science-project-scoping-guide/) provided by Carnegie Mellon University.<br><br>\n",
    "**GOALS:** (***1***) Characterize reactional use of public lands in the United States; and (***2***) learn how to scrape and visualize data from a webpage.<br>\n",
    "**DATA:** Publically avaialable data on recreational use of the US national parks will be scrapped from the [National Parks Service (NPS)](https://irma.nps.gov/STATS/) website.<br>\n",
    "**ANALYSIS:** Exploratory data analysis to gain insights into the dataset.<br>\n",
    "**ETHICAL CONSIDERATIONS:** There are no apparent issues with privacy, transparency,\n",
    "discrimination/equity, or accountability in terms of avaiable data. Whether access to the national parks is equitable across communities in the US should be considered further. The NPS has begun administering a [survey](https://www.nps.gov/subjects/socialscience/socioeconomic-monitoring-visitor-surveys.htm) to understand who accesses the parks, and whether access differs as a function of demographic and economic factors. I'd like to incorporate data from that survey into this notebook when it becomes publically available.<br>\n",
    "**ADDITIONAL CONSIDERATIONS:** None."
   ]
  },
  {
   "cell_type": "markdown",
   "metadata": {},
   "source": [
    "## Load libraries"
   ]
  },
  {
   "cell_type": "code",
   "execution_count": 1,
   "metadata": {},
   "outputs": [],
   "source": [
    "import pandas as pd\n",
    "import requests as rq\n",
    "from bs4 import BeautifulSoup"
   ]
  },
  {
   "cell_type": "markdown",
   "metadata": {},
   "source": [
    "## Gather list US national parks \n",
    "First step is to compile a list of the national parks in the United States. For practice, I will scrape this information from this [wiki page](https://en.wikipedia.org/wiki/List_of_national_parks_of_the_United_States). "
   ]
  },
  {
   "cell_type": "code",
   "execution_count": 2,
   "metadata": {},
   "outputs": [],
   "source": [
    "# url to scrape information from\n",
    "wiki = 'https://en.wikipedia.org/wiki/List_of_national_parks_of_the_United_States'"
   ]
  },
  {
   "cell_type": "code",
   "execution_count": 3,
   "metadata": {
    "scrolled": true
   },
   "outputs": [],
   "source": [
    "# convert webpage to text\n",
    "page = rq.get(wiki).text\n",
    "\n",
    "# convert to BeautifulSoup object\n",
    "soup = BeautifulSoup(page)"
   ]
  },
  {
   "cell_type": "code",
   "execution_count": 4,
   "metadata": {},
   "outputs": [],
   "source": [
    "# pull <table> tag that match our class name\n",
    "table = soup.find('table', class_ = 'wikitable sortable plainrowheaders')\n",
    "\n",
    "# find <tr> tags in our specified table, ignoring the labels row\n",
    "parks_table = table.find_all('tr')[1:]"
   ]
  },
  {
   "cell_type": "code",
   "execution_count": 5,
   "metadata": {
    "scrolled": false
   },
   "outputs": [],
   "source": [
    "# create empty list to store park names\n",
    "park_names = []\n",
    "\n",
    "for park in parks_table:\n",
    "    # extract park name from <a> tag\n",
    "    name = park.find('a').get('title')\n",
    "        \n",
    "    # extract park latitude from <span class='latitude'> tag\n",
    "    latitude = park.find(attrs={'class':'span', 'class':'latitude'})\n",
    "    latitude = latitude.text\n",
    "    \n",
    "    # extract park longitude from <span class='longitude'> tag\n",
    "    longitude = park.find(attrs={'class':'span', 'class':'longitude'})\n",
    "    longitude = longitude.text\n",
    "    \n",
    "    # append information to full parks list\n",
    "    park_names.append([name, latitude, longitude])"
   ]
  },
  {
   "cell_type": "code",
   "execution_count": 6,
   "metadata": {
    "scrolled": true
   },
   "outputs": [
    {
     "name": "stdout",
     "output_type": "stream",
     "text": [
      "[['Acadia National Park', '44°21′N', '68°13′W'], ['National Park of American Samoa', '14°15′S', '170°41′W'], ['Arches National Park', '38°41′N', '109°34′W'], ['Badlands National Park', '43°45′N', '102°30′W'], ['Big Bend National Park', '29°15′N', '103°15′W'], ['Biscayne National Park', '25°39′N', '80°05′W'], ['Black Canyon of the Gunnison National Park', '38°34′N', '107°43′W'], ['Bryce Canyon National Park', '37°34′N', '112°11′W'], ['Canyonlands National Park', '38°12′N', '109°56′W'], ['Capitol Reef National Park', '38°12′N', '111°10′W'], ['Carlsbad Caverns National Park', '32°10′N', '104°26′W'], ['Channel Islands National Park', '34°01′N', '119°25′W'], ['Congaree National Park', '33°47′N', '80°47′W'], ['Crater Lake National Park', '42°56′N', '122°06′W'], ['Cuyahoga Valley National Park', '41°14′N', '81°33′W'], ['Death Valley National Park', '36°14′N', '116°49′W'], ['Denali National Park and Preserve', '63°20′N', '150°30′W'], ['Dry Tortugas National Park', '24°38′N', '82°52′W'], ['Everglades National Park', '25°19′N', '80°56′W'], ['Gates of the Arctic National Park and Preserve', '67°47′N', '153°18′W'], ['Gateway Arch National Park', '38°38′N', '90°11′W'], ['Glacier National Park (U.S.)', '48°48′N', '114°00′W'], ['Glacier Bay National Park and Preserve', '58°30′N', '137°00′W'], ['Grand Canyon National Park', '36°04′N', '112°08′W'], ['Grand Teton National Park', '43°44′N', '110°48′W'], ['Great Basin National Park', '38°59′N', '114°18′W'], ['Great Sand Dunes National Park and Preserve', '37°44′N', '105°31′W'], ['Great Smoky Mountains National Park', '35°41′N', '83°32′W'], ['Guadalupe Mountains National Park', '31°55′N', '104°52′W'], ['Haleakalā National Park', '20°43′N', '156°10′W'], ['Hawaiʻi Volcanoes National Park', '19°23′N', '155°12′W'], ['Hot Springs National Park', '34°31′N', '93°03′W'], ['Indiana Dunes National Park', '41°39′12″N', '87°03′09″W'], ['Isle Royale National Park', '48°06′N', '88°33′W'], ['Joshua Tree National Park', '33°47′N', '115°54′W'], ['Katmai National Park and Preserve', '58°30′N', '155°00′W'], ['Kenai Fjords National Park', '59°55′N', '149°39′W'], ['Kings Canyon National Park', '36°48′N', '118°33′W'], ['Kobuk Valley National Park', '67°33′N', '159°17′W'], ['Lake Clark National Park and Preserve', '60°58′N', '153°25′W'], ['Lassen Volcanic National Park', '40°29′N', '121°31′W'], ['Mammoth Cave National Park', '37°11′N', '86°06′W'], ['Mesa Verde National Park', '37°11′N', '108°29′W'], ['Mount Rainier National Park', '46°51′N', '121°45′W'], ['New River Gorge National Park and Preserve', '38°04′N', '81°05′W'], ['North Cascades National Park', '48°42′N', '121°12′W'], ['Olympic National Park', '47°58′N', '123°30′W'], ['Petrified Forest National Park', '35°04′N', '109°47′W'], ['Pinnacles National Park', '36°29′N', '121°10′W'], ['Redwood National and State Parks', '41°18′N', '124°00′W'], ['Rocky Mountain National Park', '40°24′N', '105°35′W'], ['Saguaro National Park', '32°15′N', '110°30′W'], ['Sequoia National Park', '36°26′N', '118°41′W'], ['Shenandoah National Park', '38°32′N', '78°21′W'], ['Theodore Roosevelt National Park', '46°58′N', '103°27′W'], ['Virgin Islands National Park', '18°20′N', '64°44′W'], ['Voyageurs National Park', '48°30′N', '92°53′W'], ['White Sands National Park', '32°47′N', '106°10′W'], ['Wind Cave National Park', '43°34′N', '103°29′W'], ['Wrangell–St. Elias National Park and Preserve', '61°00′N', '142°00′W'], ['Yellowstone National Park', '44°36′N', '110°30′W'], ['Yosemite National Park', '37°50′N', '119°30′W'], ['Zion National Park', '37°18′N', '113°03′W']]\n"
     ]
    }
   ],
   "source": [
    "print(park_names)"
   ]
  },
  {
   "cell_type": "markdown",
   "metadata": {},
   "source": [
    "Great! We now have a list that contains names and coordinates of the 63 of the national parks in the US."
   ]
  },
  {
   "cell_type": "markdown",
   "metadata": {},
   "source": [
    "## Access data from NPS\n",
    "Data for this project is publically avialable on the NPS website. I'm going to try a different web-srapping method, and use the `read_html` function from **pandas**. The rationale for the approach I use here is described in [this tutorial](https://www.youtube.com/watch?v=ooj84UP3r6M). "
   ]
  },
  {
   "cell_type": "code",
   "execution_count": 7,
   "metadata": {},
   "outputs": [],
   "source": [
    "# define url string \n",
    "nps = 'https://irma.nps.gov/STATS/SSRSReports/Park%20Specific%20Reports/Recreation%20Visitors%20By%20Month%20(1979%20-%20Last%20Calendar%20Year)?Park={}'"
   ]
  },
  {
   "cell_type": "markdown",
   "metadata": {},
   "source": [
    "Now we can loop through a list of NPS-defined park abbreviations to access data for each specific national park."
   ]
  },
  {
   "cell_type": "code",
   "execution_count": 8,
   "metadata": {},
   "outputs": [],
   "source": [
    "# parks list by NPS-defined abbreviations\n",
    "parks = ['ACAD', 'ARCH', 'BADL', 'BIBE', 'BISC', 'BLCA', 'BRCA', 'CANY', 'CARE', 'CAVE', \n",
    "         'CHIS', 'CONG', 'CRLA', 'CUVA', 'DEVA', 'DENA', 'DRTO', 'EVER', 'GAAR', 'JEFF', \n",
    "         'GLBA', 'GLAC', 'GRCA', 'GRTE', 'GRBA', 'GRSA', 'GRSM', 'GUMO', 'HALE', 'HAVO', \n",
    "         'HOSP', 'INDU', 'ISRO', 'JOTR', 'KATM', 'KEFJ', 'KICA', 'KOVA', 'LACL', 'LAVO', \n",
    "         'MACA', 'MEVE', 'MORA', 'NERI', 'NPAS', 'NOCA', 'OLYM', 'PEFO', 'PINN', 'REDW', \n",
    "         'ROMO', 'SAGU', 'SEQU', 'SHEN', 'THRO', 'VIIS', 'VOYA', 'WHSA', 'WICA', 'WRST', \n",
    "         'YELL', 'YOSE', 'ZION']"
   ]
  },
  {
   "cell_type": "code",
   "execution_count": 9,
   "metadata": {},
   "outputs": [
    {
     "name": "stdout",
     "output_type": "stream",
     "text": [
      "https://irma.nps.gov/STATS/SSRSReports/Park%20Specific%20Reports/Recreation%20Visitors%20By%20Month%20(1979%20-%20Last%20Calendar%20Year)?Park=ACAD\n",
      "https://irma.nps.gov/STATS/SSRSReports/Park%20Specific%20Reports/Recreation%20Visitors%20By%20Month%20(1979%20-%20Last%20Calendar%20Year)?Park=ARCH\n",
      "https://irma.nps.gov/STATS/SSRSReports/Park%20Specific%20Reports/Recreation%20Visitors%20By%20Month%20(1979%20-%20Last%20Calendar%20Year)?Park=BADL\n",
      "https://irma.nps.gov/STATS/SSRSReports/Park%20Specific%20Reports/Recreation%20Visitors%20By%20Month%20(1979%20-%20Last%20Calendar%20Year)?Park=BIBE\n",
      "https://irma.nps.gov/STATS/SSRSReports/Park%20Specific%20Reports/Recreation%20Visitors%20By%20Month%20(1979%20-%20Last%20Calendar%20Year)?Park=BISC\n",
      "https://irma.nps.gov/STATS/SSRSReports/Park%20Specific%20Reports/Recreation%20Visitors%20By%20Month%20(1979%20-%20Last%20Calendar%20Year)?Park=BLCA\n",
      "https://irma.nps.gov/STATS/SSRSReports/Park%20Specific%20Reports/Recreation%20Visitors%20By%20Month%20(1979%20-%20Last%20Calendar%20Year)?Park=BRCA\n",
      "https://irma.nps.gov/STATS/SSRSReports/Park%20Specific%20Reports/Recreation%20Visitors%20By%20Month%20(1979%20-%20Last%20Calendar%20Year)?Park=CANY\n",
      "https://irma.nps.gov/STATS/SSRSReports/Park%20Specific%20Reports/Recreation%20Visitors%20By%20Month%20(1979%20-%20Last%20Calendar%20Year)?Park=CARE\n",
      "https://irma.nps.gov/STATS/SSRSReports/Park%20Specific%20Reports/Recreation%20Visitors%20By%20Month%20(1979%20-%20Last%20Calendar%20Year)?Park=CAVE\n",
      "https://irma.nps.gov/STATS/SSRSReports/Park%20Specific%20Reports/Recreation%20Visitors%20By%20Month%20(1979%20-%20Last%20Calendar%20Year)?Park=CHIS\n",
      "https://irma.nps.gov/STATS/SSRSReports/Park%20Specific%20Reports/Recreation%20Visitors%20By%20Month%20(1979%20-%20Last%20Calendar%20Year)?Park=CONG\n",
      "https://irma.nps.gov/STATS/SSRSReports/Park%20Specific%20Reports/Recreation%20Visitors%20By%20Month%20(1979%20-%20Last%20Calendar%20Year)?Park=CRLA\n",
      "https://irma.nps.gov/STATS/SSRSReports/Park%20Specific%20Reports/Recreation%20Visitors%20By%20Month%20(1979%20-%20Last%20Calendar%20Year)?Park=CUVA\n",
      "https://irma.nps.gov/STATS/SSRSReports/Park%20Specific%20Reports/Recreation%20Visitors%20By%20Month%20(1979%20-%20Last%20Calendar%20Year)?Park=DEVA\n",
      "https://irma.nps.gov/STATS/SSRSReports/Park%20Specific%20Reports/Recreation%20Visitors%20By%20Month%20(1979%20-%20Last%20Calendar%20Year)?Park=DENA\n",
      "https://irma.nps.gov/STATS/SSRSReports/Park%20Specific%20Reports/Recreation%20Visitors%20By%20Month%20(1979%20-%20Last%20Calendar%20Year)?Park=DRTO\n",
      "https://irma.nps.gov/STATS/SSRSReports/Park%20Specific%20Reports/Recreation%20Visitors%20By%20Month%20(1979%20-%20Last%20Calendar%20Year)?Park=EVER\n",
      "https://irma.nps.gov/STATS/SSRSReports/Park%20Specific%20Reports/Recreation%20Visitors%20By%20Month%20(1979%20-%20Last%20Calendar%20Year)?Park=GAAR\n",
      "https://irma.nps.gov/STATS/SSRSReports/Park%20Specific%20Reports/Recreation%20Visitors%20By%20Month%20(1979%20-%20Last%20Calendar%20Year)?Park=JEFF\n",
      "https://irma.nps.gov/STATS/SSRSReports/Park%20Specific%20Reports/Recreation%20Visitors%20By%20Month%20(1979%20-%20Last%20Calendar%20Year)?Park=GLBA\n",
      "https://irma.nps.gov/STATS/SSRSReports/Park%20Specific%20Reports/Recreation%20Visitors%20By%20Month%20(1979%20-%20Last%20Calendar%20Year)?Park=GLAC\n",
      "https://irma.nps.gov/STATS/SSRSReports/Park%20Specific%20Reports/Recreation%20Visitors%20By%20Month%20(1979%20-%20Last%20Calendar%20Year)?Park=GRCA\n",
      "https://irma.nps.gov/STATS/SSRSReports/Park%20Specific%20Reports/Recreation%20Visitors%20By%20Month%20(1979%20-%20Last%20Calendar%20Year)?Park=GRTE\n",
      "https://irma.nps.gov/STATS/SSRSReports/Park%20Specific%20Reports/Recreation%20Visitors%20By%20Month%20(1979%20-%20Last%20Calendar%20Year)?Park=GRBA\n",
      "https://irma.nps.gov/STATS/SSRSReports/Park%20Specific%20Reports/Recreation%20Visitors%20By%20Month%20(1979%20-%20Last%20Calendar%20Year)?Park=GRSA\n",
      "https://irma.nps.gov/STATS/SSRSReports/Park%20Specific%20Reports/Recreation%20Visitors%20By%20Month%20(1979%20-%20Last%20Calendar%20Year)?Park=GRSM\n",
      "https://irma.nps.gov/STATS/SSRSReports/Park%20Specific%20Reports/Recreation%20Visitors%20By%20Month%20(1979%20-%20Last%20Calendar%20Year)?Park=GUMO\n",
      "https://irma.nps.gov/STATS/SSRSReports/Park%20Specific%20Reports/Recreation%20Visitors%20By%20Month%20(1979%20-%20Last%20Calendar%20Year)?Park=HALE\n",
      "https://irma.nps.gov/STATS/SSRSReports/Park%20Specific%20Reports/Recreation%20Visitors%20By%20Month%20(1979%20-%20Last%20Calendar%20Year)?Park=HAVO\n",
      "https://irma.nps.gov/STATS/SSRSReports/Park%20Specific%20Reports/Recreation%20Visitors%20By%20Month%20(1979%20-%20Last%20Calendar%20Year)?Park=HOSP\n",
      "https://irma.nps.gov/STATS/SSRSReports/Park%20Specific%20Reports/Recreation%20Visitors%20By%20Month%20(1979%20-%20Last%20Calendar%20Year)?Park=INDU\n",
      "https://irma.nps.gov/STATS/SSRSReports/Park%20Specific%20Reports/Recreation%20Visitors%20By%20Month%20(1979%20-%20Last%20Calendar%20Year)?Park=ISRO\n",
      "https://irma.nps.gov/STATS/SSRSReports/Park%20Specific%20Reports/Recreation%20Visitors%20By%20Month%20(1979%20-%20Last%20Calendar%20Year)?Park=JOTR\n",
      "https://irma.nps.gov/STATS/SSRSReports/Park%20Specific%20Reports/Recreation%20Visitors%20By%20Month%20(1979%20-%20Last%20Calendar%20Year)?Park=KATM\n",
      "https://irma.nps.gov/STATS/SSRSReports/Park%20Specific%20Reports/Recreation%20Visitors%20By%20Month%20(1979%20-%20Last%20Calendar%20Year)?Park=KEFJ\n",
      "https://irma.nps.gov/STATS/SSRSReports/Park%20Specific%20Reports/Recreation%20Visitors%20By%20Month%20(1979%20-%20Last%20Calendar%20Year)?Park=KICA\n",
      "https://irma.nps.gov/STATS/SSRSReports/Park%20Specific%20Reports/Recreation%20Visitors%20By%20Month%20(1979%20-%20Last%20Calendar%20Year)?Park=KOVA\n",
      "https://irma.nps.gov/STATS/SSRSReports/Park%20Specific%20Reports/Recreation%20Visitors%20By%20Month%20(1979%20-%20Last%20Calendar%20Year)?Park=LACL\n",
      "https://irma.nps.gov/STATS/SSRSReports/Park%20Specific%20Reports/Recreation%20Visitors%20By%20Month%20(1979%20-%20Last%20Calendar%20Year)?Park=LAVO\n",
      "https://irma.nps.gov/STATS/SSRSReports/Park%20Specific%20Reports/Recreation%20Visitors%20By%20Month%20(1979%20-%20Last%20Calendar%20Year)?Park=MACA\n",
      "https://irma.nps.gov/STATS/SSRSReports/Park%20Specific%20Reports/Recreation%20Visitors%20By%20Month%20(1979%20-%20Last%20Calendar%20Year)?Park=MEVE\n",
      "https://irma.nps.gov/STATS/SSRSReports/Park%20Specific%20Reports/Recreation%20Visitors%20By%20Month%20(1979%20-%20Last%20Calendar%20Year)?Park=MORA\n",
      "https://irma.nps.gov/STATS/SSRSReports/Park%20Specific%20Reports/Recreation%20Visitors%20By%20Month%20(1979%20-%20Last%20Calendar%20Year)?Park=NERI\n",
      "https://irma.nps.gov/STATS/SSRSReports/Park%20Specific%20Reports/Recreation%20Visitors%20By%20Month%20(1979%20-%20Last%20Calendar%20Year)?Park=NPAS\n",
      "https://irma.nps.gov/STATS/SSRSReports/Park%20Specific%20Reports/Recreation%20Visitors%20By%20Month%20(1979%20-%20Last%20Calendar%20Year)?Park=NOCA\n",
      "https://irma.nps.gov/STATS/SSRSReports/Park%20Specific%20Reports/Recreation%20Visitors%20By%20Month%20(1979%20-%20Last%20Calendar%20Year)?Park=OLYM\n",
      "https://irma.nps.gov/STATS/SSRSReports/Park%20Specific%20Reports/Recreation%20Visitors%20By%20Month%20(1979%20-%20Last%20Calendar%20Year)?Park=PEFO\n",
      "https://irma.nps.gov/STATS/SSRSReports/Park%20Specific%20Reports/Recreation%20Visitors%20By%20Month%20(1979%20-%20Last%20Calendar%20Year)?Park=PINN\n",
      "https://irma.nps.gov/STATS/SSRSReports/Park%20Specific%20Reports/Recreation%20Visitors%20By%20Month%20(1979%20-%20Last%20Calendar%20Year)?Park=REDW\n",
      "https://irma.nps.gov/STATS/SSRSReports/Park%20Specific%20Reports/Recreation%20Visitors%20By%20Month%20(1979%20-%20Last%20Calendar%20Year)?Park=ROMO\n",
      "https://irma.nps.gov/STATS/SSRSReports/Park%20Specific%20Reports/Recreation%20Visitors%20By%20Month%20(1979%20-%20Last%20Calendar%20Year)?Park=SAGU\n",
      "https://irma.nps.gov/STATS/SSRSReports/Park%20Specific%20Reports/Recreation%20Visitors%20By%20Month%20(1979%20-%20Last%20Calendar%20Year)?Park=SEQU\n",
      "https://irma.nps.gov/STATS/SSRSReports/Park%20Specific%20Reports/Recreation%20Visitors%20By%20Month%20(1979%20-%20Last%20Calendar%20Year)?Park=SHEN\n",
      "https://irma.nps.gov/STATS/SSRSReports/Park%20Specific%20Reports/Recreation%20Visitors%20By%20Month%20(1979%20-%20Last%20Calendar%20Year)?Park=THRO\n",
      "https://irma.nps.gov/STATS/SSRSReports/Park%20Specific%20Reports/Recreation%20Visitors%20By%20Month%20(1979%20-%20Last%20Calendar%20Year)?Park=VIIS\n",
      "https://irma.nps.gov/STATS/SSRSReports/Park%20Specific%20Reports/Recreation%20Visitors%20By%20Month%20(1979%20-%20Last%20Calendar%20Year)?Park=VOYA\n",
      "https://irma.nps.gov/STATS/SSRSReports/Park%20Specific%20Reports/Recreation%20Visitors%20By%20Month%20(1979%20-%20Last%20Calendar%20Year)?Park=WHSA\n",
      "https://irma.nps.gov/STATS/SSRSReports/Park%20Specific%20Reports/Recreation%20Visitors%20By%20Month%20(1979%20-%20Last%20Calendar%20Year)?Park=WICA\n",
      "https://irma.nps.gov/STATS/SSRSReports/Park%20Specific%20Reports/Recreation%20Visitors%20By%20Month%20(1979%20-%20Last%20Calendar%20Year)?Park=WRST\n",
      "https://irma.nps.gov/STATS/SSRSReports/Park%20Specific%20Reports/Recreation%20Visitors%20By%20Month%20(1979%20-%20Last%20Calendar%20Year)?Park=YELL\n",
      "https://irma.nps.gov/STATS/SSRSReports/Park%20Specific%20Reports/Recreation%20Visitors%20By%20Month%20(1979%20-%20Last%20Calendar%20Year)?Park=YOSE\n",
      "https://irma.nps.gov/STATS/SSRSReports/Park%20Specific%20Reports/Recreation%20Visitors%20By%20Month%20(1979%20-%20Last%20Calendar%20Year)?Park=ZION\n"
     ]
    }
   ],
   "source": [
    "parks_data = []\n",
    "\n",
    "for park in parks:\n",
    "    url = nps.format(park)\n",
    "    print(url)\n",
    "    # add table extraction here"
   ]
  },
  {
   "cell_type": "markdown",
   "metadata": {},
   "source": [
    "Looks good! The next step will be to read the data tables into the notebook, followed by general data tidying.<br><br>***To be continued***"
   ]
  }
 ],
 "metadata": {
  "kernelspec": {
   "display_name": "Python 3",
   "language": "python",
   "name": "python3"
  },
  "language_info": {
   "codemirror_mode": {
    "name": "ipython",
    "version": 3
   },
   "file_extension": ".py",
   "mimetype": "text/x-python",
   "name": "python",
   "nbconvert_exporter": "python",
   "pygments_lexer": "ipython3",
   "version": "3.8.5"
  }
 },
 "nbformat": 4,
 "nbformat_minor": 4
}

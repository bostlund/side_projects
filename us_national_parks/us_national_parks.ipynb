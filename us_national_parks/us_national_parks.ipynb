{
 "cells": [
  {
   "cell_type": "markdown",
   "metadata": {},
   "source": [
    "# US National Parks\n",
    "This notebook is structured based on a [project scoping guide](http://www.datasciencepublicpolicy.org/our-work/tools-guides/data-science-project-scoping-guide/) provided by Carnegie Mellon University.<br><br>\n",
    "**GOALS:** ***(1)*** Characterize reactional use of public lands in the United States; and ***(2)*** learn how to scrape and visualize data from a webpage.<br>\n",
    "**DATA:** Publically avaialable data on recreational use of the US national parks will be scrapped from the [National Parks Service (NPS)](https://irma.nps.gov/STATS/) website.<br>\n",
    "**ANALYSIS:** Exploratory data analysis to gain insights into the dataset.<br>\n",
    "**ETHICAL CONSIDERATIONS:** There are no apparent issues with privacy, transparency,\n",
    "discrimination/equity, or accountability in terms of avaiable data. Whether access to the national parks is equitable across communities in the US should be considered further. The NPS has begun administering a [survey](https://www.nps.gov/subjects/socialscience/socioeconomic-monitoring-visitor-surveys.htm) to understand who accesses the parks, and whether access differs as a function of demographic and economic factors. I'd like to incorporate data from that survey into this notebook when it becomes publically available.<br>\n",
    "**ADDITIONAL CONSIDERATIONS:** None."
   ]
  },
  {
   "cell_type": "markdown",
   "metadata": {},
   "source": [
    "## Load libraries"
   ]
  },
  {
   "cell_type": "code",
   "execution_count": 4,
   "metadata": {},
   "outputs": [],
   "source": [
    "import pandas as pd\n",
    "import requests as rq\n",
    "from bs4 import BeautifulSoup"
   ]
  },
  {
   "cell_type": "markdown",
   "metadata": {},
   "source": [
    "## Gather list US national parks \n",
    "First step is to compile a list of the national parks in the United States. For practice, I will scrape this information from this [wiki page](https://en.wikipedia.org/wiki/List_of_national_parks_of_the_United_States). "
   ]
  },
  {
   "cell_type": "code",
   "execution_count": 9,
   "metadata": {},
   "outputs": [],
   "source": [
    "# url to scrape information from\n",
    "wiki = 'https://en.wikipedia.org/wiki/List_of_national_parks_of_the_United_States'"
   ]
  },
  {
   "cell_type": "code",
   "execution_count": 10,
   "metadata": {
    "scrolled": true
   },
   "outputs": [],
   "source": [
    "# extract HTML text\n",
    "page = rq.get(wiki).text\n",
    "\n",
    "# convert to BeautifulSoup object\n",
    "soup = BeautifulSoup(page)"
   ]
  },
  {
   "cell_type": "code",
   "execution_count": 11,
   "metadata": {
    "scrolled": true
   },
   "outputs": [],
   "source": [
    "# pull <table> tag that match our class name\n",
    "table = soup.find('table', class_ = 'wikitable sortable plainrowheaders')\n",
    "\n",
    "# find <tr> tags in our specified table, ignoring the labels row\n",
    "parks_table = table.find_all('tr')[1:]"
   ]
  },
  {
   "cell_type": "code",
   "execution_count": 12,
   "metadata": {
    "scrolled": false
   },
   "outputs": [],
   "source": [
    "# create empty list to store park names\n",
    "parks = []"
   ]
  },
  {
   "cell_type": "code",
   "execution_count": 13,
   "metadata": {},
   "outputs": [],
   "source": [
    "# Loop through each park in the website's table\n",
    "for park in parks_table:\n",
    "    \n",
    "    # extract park name from <a> tag\n",
    "    name = park.find('a').get('title')\n",
    "        \n",
    "    # extract park latitude from <span class='latitude'> tag\n",
    "    latitude = park.find(attrs={'class':'span', 'class':'latitude'})\n",
    "    latitude = latitude.text\n",
    "    \n",
    "    # extract park longitude from <span class='longitude'> tag\n",
    "    longitude = park.find(attrs={'class':'span', 'class':'longitude'})\n",
    "    longitude = longitude.text\n",
    "    \n",
    "    # append information to full parks list\n",
    "    parks.append([name, latitude, longitude])"
   ]
  },
  {
   "cell_type": "code",
   "execution_count": 17,
   "metadata": {},
   "outputs": [],
   "source": [
    "# create list of NPS park abbreviations\n",
    "parks_abrv = ['ACAD', 'ARCH', 'BADL', 'BIBE', 'BISC', 'BLCA', 'BRCA', 'CANY', 'CARE', 'CAVE', \n",
    "              'CHIS', 'CONG', 'CRLA', 'CUVA', 'DEVA', 'DENA', 'DRTO', 'EVER', 'GAAR', 'JEFF', \n",
    "              'GLBA', 'GLAC', 'GRCA', 'GRTE', 'GRBA', 'GRSA', 'GRSM', 'GUMO', 'HALE', 'HAVO', \n",
    "              'HOSP', 'INDU', 'ISRO', 'JOTR', 'KATM', 'KEFJ', 'KICA', 'KOVA', 'LACL', 'LAVO', \n",
    "              'MACA', 'MEVE', 'MORA', 'NERI', 'NPAS', 'NOCA', 'OLYM', 'PEFO', 'PINN', 'REDW', \n",
    "              'ROMO', 'SAGU', 'SEQU', 'SHEN', 'THRO', 'VIIS', 'VOYA', 'WHSA', 'WICA', 'WRST', \n",
    "              'YELL', 'YOSE', 'ZION']"
   ]
  },
  {
   "cell_type": "code",
   "execution_count": 18,
   "metadata": {},
   "outputs": [],
   "source": [
    "# append NPS abbrevations to parks list\n",
    "for x, y in zip(parks, parks_abrv):\n",
    "    x.append(y)"
   ]
  },
  {
   "cell_type": "code",
   "execution_count": 19,
   "metadata": {},
   "outputs": [
    {
     "name": "stdout",
     "output_type": "stream",
     "text": [
      "[['Acadia National Park', '44°21′N', '68°13′W', 'ACAD'], ['National Park of American Samoa', '14°15′S', '170°41′W', 'ARCH'], ['Arches National Park', '38°41′N', '109°34′W', 'BADL'], ['Badlands National Park', '43°45′N', '102°30′W', 'BIBE'], ['Big Bend National Park', '29°15′N', '103°15′W', 'BISC'], ['Biscayne National Park', '25°39′N', '80°05′W', 'BLCA'], ['Black Canyon of the Gunnison National Park', '38°34′N', '107°43′W', 'BRCA'], ['Bryce Canyon National Park', '37°34′N', '112°11′W', 'CANY'], ['Canyonlands National Park', '38°12′N', '109°56′W', 'CARE'], ['Capitol Reef National Park', '38°12′N', '111°10′W', 'CAVE'], ['Carlsbad Caverns National Park', '32°10′N', '104°26′W', 'CHIS'], ['Channel Islands National Park', '34°01′N', '119°25′W', 'CONG'], ['Congaree National Park', '33°47′N', '80°47′W', 'CRLA'], ['Crater Lake National Park', '42°56′N', '122°06′W', 'CUVA'], ['Cuyahoga Valley National Park', '41°14′N', '81°33′W', 'DEVA'], ['Death Valley National Park', '36°14′N', '116°49′W', 'DENA'], ['Denali National Park and Preserve', '63°20′N', '150°30′W', 'DRTO'], ['Dry Tortugas National Park', '24°38′N', '82°52′W', 'EVER'], ['Everglades National Park', '25°19′N', '80°56′W', 'GAAR'], ['Gates of the Arctic National Park and Preserve', '67°47′N', '153°18′W', 'JEFF'], ['Gateway Arch National Park', '38°38′N', '90°11′W', 'GLBA'], ['Glacier National Park (U.S.)', '48°48′N', '114°00′W', 'GLAC'], ['Glacier Bay National Park and Preserve', '58°30′N', '137°00′W', 'GRCA'], ['Grand Canyon National Park', '36°04′N', '112°08′W', 'GRTE'], ['Grand Teton National Park', '43°44′N', '110°48′W', 'GRBA'], ['Great Basin National Park', '38°59′N', '114°18′W', 'GRSA'], ['Great Sand Dunes National Park and Preserve', '37°44′N', '105°31′W', 'GRSM'], ['Great Smoky Mountains National Park', '35°41′N', '83°32′W', 'GUMO'], ['Guadalupe Mountains National Park', '31°55′N', '104°52′W', 'HALE'], ['Haleakalā National Park', '20°43′N', '156°10′W', 'HAVO'], ['Hawaiʻi Volcanoes National Park', '19°23′N', '155°12′W', 'HOSP'], ['Hot Springs National Park', '34°31′N', '93°03′W', 'INDU'], ['Indiana Dunes National Park', '41°39′12″N', '87°03′09″W', 'ISRO'], ['Isle Royale National Park', '48°06′N', '88°33′W', 'JOTR'], ['Joshua Tree National Park', '33°47′N', '115°54′W', 'KATM'], ['Katmai National Park and Preserve', '58°30′N', '155°00′W', 'KEFJ'], ['Kenai Fjords National Park', '59°55′N', '149°39′W', 'KICA'], ['Kings Canyon National Park', '36°48′N', '118°33′W', 'KOVA'], ['Kobuk Valley National Park', '67°33′N', '159°17′W', 'LACL'], ['Lake Clark National Park and Preserve', '60°58′N', '153°25′W', 'LAVO'], ['Lassen Volcanic National Park', '40°29′N', '121°31′W', 'MACA'], ['Mammoth Cave National Park', '37°11′N', '86°06′W', 'MEVE'], ['Mesa Verde National Park', '37°11′N', '108°29′W', 'MORA'], ['Mount Rainier National Park', '46°51′N', '121°45′W', 'NERI'], ['New River Gorge National Park and Preserve', '38°04′N', '81°05′W', 'NPAS'], ['North Cascades National Park', '48°42′N', '121°12′W', 'NOCA'], ['Olympic National Park', '47°58′N', '123°30′W', 'OLYM'], ['Petrified Forest National Park', '35°04′N', '109°47′W', 'PEFO'], ['Pinnacles National Park', '36°29′N', '121°10′W', 'PINN'], ['Redwood National and State Parks', '41°18′N', '124°00′W', 'REDW'], ['Rocky Mountain National Park', '40°24′N', '105°35′W', 'ROMO'], ['Saguaro National Park', '32°15′N', '110°30′W', 'SAGU'], ['Sequoia National Park', '36°26′N', '118°41′W', 'SEQU'], ['Shenandoah National Park', '38°32′N', '78°21′W', 'SHEN'], ['Theodore Roosevelt National Park', '46°58′N', '103°27′W', 'THRO'], ['Virgin Islands National Park', '18°20′N', '64°44′W', 'VIIS'], ['Voyageurs National Park', '48°30′N', '92°53′W', 'VOYA'], ['White Sands National Park', '32°47′N', '106°10′W', 'WHSA'], ['Wind Cave National Park', '43°34′N', '103°29′W', 'WICA'], ['Wrangell–St. Elias National Park and Preserve', '61°00′N', '142°00′W', 'WRST'], ['Yellowstone National Park', '44°36′N', '110°30′W', 'YELL'], ['Yosemite National Park', '37°50′N', '119°30′W', 'YOSE'], ['Zion National Park', '37°18′N', '113°03′W', 'ZION']]\n"
     ]
    }
   ],
   "source": [
    "print(parks)"
   ]
  },
  {
   "cell_type": "markdown",
   "metadata": {},
   "source": [
    "Great! We now have a list that contains names, coordinates, and  of the sixty-three national parks in the United States."
   ]
  },
  {
   "cell_type": "markdown",
   "metadata": {},
   "source": [
    "## Access data from NPS"
   ]
  },
  {
   "cell_type": "code",
   "execution_count": 5,
   "metadata": {},
   "outputs": [],
   "source": [
    "# url to scrape information from\n",
    "nps = 'https://irma.nps.gov/STATS/SSRSReports/Park%20Specific%20Reports/Recreation%20Visitors%20By%20Month%20(1979%20-%20Last%20Calendar%20Year)?Park={}'"
   ]
  },
  {
   "cell_type": "code",
   "execution_count": 7,
   "metadata": {},
   "outputs": [],
   "source": [
    "# create empty list to store park data\n",
    "#parks_data = []\n",
    "\n",
    "# temporary parks list for testing\n",
    "test_park = ['ACAD']"
   ]
  },
  {
   "cell_type": "code",
   "execution_count": 8,
   "metadata": {
    "scrolled": false
   },
   "outputs": [
    {
     "name": "stdout",
     "output_type": "stream",
     "text": [
      "\r\n",
      "\r\n",
      "\r\n",
      "\r\n",
      "<!DOCTYPE html>\r\n",
      "<html xmlns=\"http://www.w3.org/1999/xhtml\">\r\n",
      "<head>\r\n",
      "    <title>Stats Report Viewer</title>\r\n",
      "    <link rel=\"shortcut icon\" type=\"image/x-icon\" href=\"https://irmafiles.nps.gov/WebContent/Irma/Common/v1_0_0/Images/favicon.ico\" />\r\n",
      "</head>\r\n",
      "<body>\r\n",
      "\r\n",
      "<iframe Height=\"900px\" Width=\"100%\" src=\"/STATS/MvcReportViewer.aspx?_id=df1c48b6-807e-4fa6-96dc-0f25a5ecca5f&amp;_m=Remote&amp;_r=%2fNPS.Stats.Reports%2fPark+Specific+Reports%2fRecreation+Visitors+By+Month+(1979+-+Last+Calendar+Year)&amp;_15=True&amp;_16=True&amp;_18=True&amp;_19=True&amp;_34=False&amp;_35=False&amp;_39=880px&amp;Park=ACAD\" style=\"border: none\"></iframe></body>\r\n",
      "</html>\n"
     ]
    }
   ],
   "source": [
    "for park in test_park:\n",
    "    \n",
    "    # url to monthly data for each park \n",
    "    url = nps.format(park)\n",
    "    \n",
    "    # extract HTML text\n",
    "    page = rq.get(url).text\n",
    "    print(page)\n",
    "    \n",
    "    # convert to BeautifulSoup object\n",
    "    #soup = BeautifulSoup(page)\n",
    "    \n",
    "    # pull <table> tag that match our class name\n",
    "    #table = soup.find('table', class_ = 'Ae30f20f368af4927806ac09a734045d0170')\n",
    "    \n",
    "    # find <tr> tags in our specified table, ignoring the labels row\n",
    "    #temp_table = table.find_all('tr')\n",
    "    \n",
    "    # extract park name from <a> tag\n",
    "    #xyz = park.find('a').get('xyz')\n",
    "    \n",
    "    # append information to full parks list\n",
    "    #park_data.append(xyz)"
   ]
  },
  {
   "cell_type": "markdown",
   "metadata": {},
   "source": [
    "There seems to be an issue with extracting the HTML text from the webpage. Maybe that's due to javascript? Unclear. There is another popular web-scraping tool called [Selenium](https://oxylabs.io/blog/selenium-web-scraping) that is suppose to work with javascript. I'll try that out next.<br><br>***To be continued***"
   ]
  }
 ],
 "metadata": {
  "kernelspec": {
   "display_name": "Python 3",
   "language": "python",
   "name": "python3"
  },
  "language_info": {
   "codemirror_mode": {
    "name": "ipython",
    "version": 3
   },
   "file_extension": ".py",
   "mimetype": "text/x-python",
   "name": "python",
   "nbconvert_exporter": "python",
   "pygments_lexer": "ipython3",
   "version": "3.8.5"
  }
 },
 "nbformat": 4,
 "nbformat_minor": 4
}

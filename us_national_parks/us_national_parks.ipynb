{
 "cells": [
  {
   "cell_type": "markdown",
   "metadata": {},
   "source": [
    "# US National Parks\n",
    "This notebook is structured based on a [project scoping guide](http://www.datasciencepublicpolicy.org/our-work/tools-guides/data-science-project-scoping-guide/) provided by Carnegie Mellon University.<br><br>\n",
    "**GOAL:** Characterize reactional use of public lands in the United States.<br>\n",
    "**DATA:** Publically avaialable data on recreational use of the US national parks will be scrapped from the [National Parks Service (NPS)](https://irma.nps.gov/STATS/) website.<br>\n",
    "**ANALYSIS:** Exploratory data analysis to gain insights into the dataset.<br>\n",
    "**ETHICAL CONSIDERATIONS:** There are no apparent issues with privacy, transparency,\n",
    "discrimination/equity, or accountability in terms of avaiable data. Whether access to the national parks is equitable across communities in the US should be considered further. The NPS has begun administering a [survey](https://www.nps.gov/subjects/socialscience/socioeconomic-monitoring-visitor-surveys.htm) to understand who accesses the parks, and whether access differs as a function of demographic and economic factors. I'd like to incorporate data from that survey into this notebook when it becomes publically available.<br>\n",
    "**ADDITIONAL CONSIDERATIONS:** None."
   ]
  },
  {
   "cell_type": "markdown",
   "metadata": {},
   "source": [
    "## Load libraries"
   ]
  },
  {
   "cell_type": "code",
   "execution_count": 13,
   "metadata": {},
   "outputs": [],
   "source": [
    "import pandas as pd\n",
    "import requests as rq\n",
    "from bs4 import BeautifulSoup as bs"
   ]
  },
  {
   "cell_type": "markdown",
   "metadata": {},
   "source": [
    "## Gather list US national parks \n",
    "First step is to compile a list of the national parks in the United States. For practice, I will scrape this information from this [wiki page](https://en.wikipedia.org/wiki/List_of_national_parks_of_the_United_States). "
   ]
  },
  {
   "cell_type": "code",
   "execution_count": null,
   "metadata": {},
   "outputs": [],
   "source": [
    "# url to scrape information from\n",
    "wiki = 'https://en.wikipedia.org/wiki/List_of_national_parks_of_the_United_States'"
   ]
  },
  {
   "cell_type": "code",
   "execution_count": 100,
   "metadata": {
    "scrolled": true
   },
   "outputs": [],
   "source": [
    "# convert webpage to text\n",
    "page = rq.get(wiki).text\n",
    "\n",
    "# convert into BeautifulSoup object\n",
    "soup = bs(page)"
   ]
  },
  {
   "cell_type": "code",
   "execution_count": 198,
   "metadata": {},
   "outputs": [],
   "source": [
    "# pull table tag that match our class name\n",
    "table = soup.find('table', class_ = 'wikitable sortable plainrowheaders')\n",
    "\n",
    "# find <tr> tags in our specified table\n",
    "parks_table = table.find_all('tr')[1:]"
   ]
  },
  {
   "cell_type": "code",
   "execution_count": 202,
   "metadata": {
    "scrolled": false
   },
   "outputs": [],
   "source": [
    "# create empty list to store park names\n",
    "park_names = []\n",
    "\n",
    "# extract park names from <a> tags of our table\n",
    "for park in parks_table:\n",
    "    name = park.find('a').get('title')\n",
    "    park_names.append(name)"
   ]
  },
  {
   "cell_type": "code",
   "execution_count": 203,
   "metadata": {
    "scrolled": true
   },
   "outputs": [
    {
     "name": "stdout",
     "output_type": "stream",
     "text": [
      "['Acadia National Park', 'National Park of American Samoa', 'Arches National Park', 'Badlands National Park', 'Big Bend National Park', 'Biscayne National Park', 'Black Canyon of the Gunnison National Park', 'Bryce Canyon National Park', 'Canyonlands National Park', 'Capitol Reef National Park', 'Carlsbad Caverns National Park', 'Channel Islands National Park', 'Congaree National Park', 'Crater Lake National Park', 'Cuyahoga Valley National Park', 'Death Valley National Park', 'Denali National Park and Preserve', 'Dry Tortugas National Park', 'Everglades National Park', 'Gates of the Arctic National Park and Preserve', 'Gateway Arch National Park', 'Glacier National Park (U.S.)', 'Glacier Bay National Park and Preserve', 'Grand Canyon National Park', 'Grand Teton National Park', 'Great Basin National Park', 'Great Sand Dunes National Park and Preserve', 'Great Smoky Mountains National Park', 'Guadalupe Mountains National Park', 'Haleakalā National Park', 'Hawaiʻi Volcanoes National Park', 'Hot Springs National Park', 'Indiana Dunes National Park', 'Isle Royale National Park', 'Joshua Tree National Park', 'Katmai National Park and Preserve', 'Kenai Fjords National Park', 'Kings Canyon National Park', 'Kobuk Valley National Park', 'Lake Clark National Park and Preserve', 'Lassen Volcanic National Park', 'Mammoth Cave National Park', 'Mesa Verde National Park', 'Mount Rainier National Park', 'New River Gorge National Park and Preserve', 'North Cascades National Park', 'Olympic National Park', 'Petrified Forest National Park', 'Pinnacles National Park', 'Redwood National and State Parks', 'Rocky Mountain National Park', 'Saguaro National Park', 'Sequoia National Park', 'Shenandoah National Park', 'Theodore Roosevelt National Park', 'Virgin Islands National Park', 'Voyageurs National Park', 'White Sands National Park', 'Wind Cave National Park', 'Wrangell–St. Elias National Park and Preserve', 'Yellowstone National Park', 'Yosemite National Park', 'Zion National Park']\n"
     ]
    }
   ],
   "source": [
    "# print list of park names\n",
    "print(park_names)"
   ]
  },
  {
   "cell_type": "markdown",
   "metadata": {},
   "source": [
    "## Access data from NPS\n",
    "Data for this project is publically avialable on the NPS website. I'm going to try a different web-srapping method, and use the `read_html` function from **pandas**. The rationale for the approach I use here is described in [this tutorial](https://www.youtube.com/watch?v=ooj84UP3r6M). "
   ]
  },
  {
   "cell_type": "code",
   "execution_count": 2,
   "metadata": {},
   "outputs": [],
   "source": [
    "# define url string \n",
    "nps = 'https://irma.nps.gov/STATS/SSRSReports/Park%20Specific%20Reports/Recreation%20Visitors%20By%20Month%20(1979%20-%20Last%20Calendar%20Year)?Park={}'"
   ]
  },
  {
   "cell_type": "markdown",
   "metadata": {},
   "source": [
    "Now we can loop through a list of NPS-defined park abbreviations to access data for each specific national park."
   ]
  },
  {
   "cell_type": "code",
   "execution_count": 3,
   "metadata": {},
   "outputs": [],
   "source": [
    "# temporary list, need to get all NPS-defined abbreviations\n",
    "parks = ['ACAD', 'ARCH', \n",
    "         'BADL', 'BIBE', 'BISC', 'BLCA', 'BRCA',\n",
    "         'CANY', 'CARE', 'CAVE', 'CHIS', 'CONG', 'CRLA', 'CUVA',\n",
    "         'DEVA', 'DENA', 'DRTO', \n",
    "         'EVER',\n",
    "         'GAAR', 'JEFF', 'GLBA', 'GLAC', 'GRCA', 'GRTE', 'GRBA', 'GRSA', 'GRSM','GUMO',\n",
    "         'HALE', 'HAVO', 'HOSP', \n",
    "         'INDU', 'ISRO',\n",
    "         'JOTR',\n",
    "         'KATM', 'KEFJ', 'KICA', 'KOVA',\n",
    "         \n",
    "        ]"
   ]
  },
  {
   "cell_type": "code",
   "execution_count": 4,
   "metadata": {
    "collapsed": true
   },
   "outputs": [
    {
     "name": "stdout",
     "output_type": "stream",
     "text": [
      "https://irma.nps.gov/STATS/SSRSReports/Park%20Specific%20Reports/Recreation%20Visitors%20By%20Month%20(1979%20-%20Last%20Calendar%20Year)?Park=ACAD\n",
      "https://irma.nps.gov/STATS/SSRSReports/Park%20Specific%20Reports/Recreation%20Visitors%20By%20Month%20(1979%20-%20Last%20Calendar%20Year)?Park=ARCH\n",
      "https://irma.nps.gov/STATS/SSRSReports/Park%20Specific%20Reports/Recreation%20Visitors%20By%20Month%20(1979%20-%20Last%20Calendar%20Year)?Park=BADL\n",
      "https://irma.nps.gov/STATS/SSRSReports/Park%20Specific%20Reports/Recreation%20Visitors%20By%20Month%20(1979%20-%20Last%20Calendar%20Year)?Park=BIBE\n",
      "https://irma.nps.gov/STATS/SSRSReports/Park%20Specific%20Reports/Recreation%20Visitors%20By%20Month%20(1979%20-%20Last%20Calendar%20Year)?Park=BISC\n",
      "https://irma.nps.gov/STATS/SSRSReports/Park%20Specific%20Reports/Recreation%20Visitors%20By%20Month%20(1979%20-%20Last%20Calendar%20Year)?Park=BLCA\n",
      "https://irma.nps.gov/STATS/SSRSReports/Park%20Specific%20Reports/Recreation%20Visitors%20By%20Month%20(1979%20-%20Last%20Calendar%20Year)?Park=BRCA\n",
      "https://irma.nps.gov/STATS/SSRSReports/Park%20Specific%20Reports/Recreation%20Visitors%20By%20Month%20(1979%20-%20Last%20Calendar%20Year)?Park=CANY\n",
      "https://irma.nps.gov/STATS/SSRSReports/Park%20Specific%20Reports/Recreation%20Visitors%20By%20Month%20(1979%20-%20Last%20Calendar%20Year)?Park=CARE\n",
      "https://irma.nps.gov/STATS/SSRSReports/Park%20Specific%20Reports/Recreation%20Visitors%20By%20Month%20(1979%20-%20Last%20Calendar%20Year)?Park=CAVE\n",
      "https://irma.nps.gov/STATS/SSRSReports/Park%20Specific%20Reports/Recreation%20Visitors%20By%20Month%20(1979%20-%20Last%20Calendar%20Year)?Park=CHIS\n",
      "https://irma.nps.gov/STATS/SSRSReports/Park%20Specific%20Reports/Recreation%20Visitors%20By%20Month%20(1979%20-%20Last%20Calendar%20Year)?Park=CONG\n",
      "https://irma.nps.gov/STATS/SSRSReports/Park%20Specific%20Reports/Recreation%20Visitors%20By%20Month%20(1979%20-%20Last%20Calendar%20Year)?Park=CRLA\n",
      "https://irma.nps.gov/STATS/SSRSReports/Park%20Specific%20Reports/Recreation%20Visitors%20By%20Month%20(1979%20-%20Last%20Calendar%20Year)?Park=CUVA\n"
     ]
    }
   ],
   "source": [
    "for park in parks:\n",
    "    url = nps.format(park)\n",
    "    print(url)"
   ]
  },
  {
   "cell_type": "markdown",
   "metadata": {},
   "source": [
    "Looks good! The next step will be to read the data tables into the notebook, followed by general data tidying.<br><br>***To be continued***"
   ]
  }
 ],
 "metadata": {
  "kernelspec": {
   "display_name": "Python 3",
   "language": "python",
   "name": "python3"
  },
  "language_info": {
   "codemirror_mode": {
    "name": "ipython",
    "version": 3
   },
   "file_extension": ".py",
   "mimetype": "text/x-python",
   "name": "python",
   "nbconvert_exporter": "python",
   "pygments_lexer": "ipython3",
   "version": "3.8.5"
  }
 },
 "nbformat": 4,
 "nbformat_minor": 4
}

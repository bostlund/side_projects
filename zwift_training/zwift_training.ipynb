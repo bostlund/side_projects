{
 "cells": [
  {
   "cell_type": "markdown",
   "metadata": {},
   "source": [
    "# Training with Zwift\n",
    "\n",
    "> \"Every time I see an adult on a bicycle, I no longer despair for the future of the human race.\" \n",
    "<br>**H. G. Wells**<br><br>\n",
    "“Learn to ride a bicycle. You will not regret it if you live.” \n",
    "<br>**Mark Twain**"
   ]
  },
  {
   "cell_type": "markdown",
   "metadata": {},
   "source": [
    "Biking is the only hobby I've carried throughout my life. I remember proudly riding in my town's annual parade while in elementary school. As a college freshman, I salvaged a '70s Univega (\"Maria\"), building it up from the frame and customizing it for the next few years. I rode that bike everywhere. We completed our first century ride in 2015. That bike was stolen while I was in grad school, plucked off the porch at a BBQ. It was replaced by my current bike, a [2017 Fuji Touring Bike](https://www.cyclingabout.com/2017-fuji-touring-bike/) (\"björn\"). I've had many memorable adventures with this bike, and more than a few odd one (e.g., 3am rides to the lab after a placenta collection). björn has never failed me. \n",
    "\n",
    "Most of my riding over the past few years has been indoors, largely due to the COVID pandemic and rehabilitation following a shoulder surgery. I joined [Zwift](https://us.zwift.com/) last year on the recommendation of a friend. Zwift gamifies bike training by offering an array of beautiful virtual routes that vary in difficulty. I'm currently using the app to train for an extented bikepack trip in Summer 2023. Our rough plan is to ride [~1400 miles along the Pacific Coast](https://www.adventurecycling.org/routes-and-maps/adventure-cycling-route-network/interactive-network-map/) from Astoria, OR to San Diego, CA. \n",
    "\n",
    "One of Zwift's best features is their ability to create insightful and intuitive visualizations from user data, acquired from a bluetooth-enabled bike trainer. I recently learned that user's can download their ride data, providing an opportunity to further characterize my training experience.<br><br>\n",
    "\n",
    "**GOAL:** *(1)* Characterize bike training patterns over time, starting from March 1, 2022; and *(2)* describe anticipated level of functioning on May 1, 2023.<br>\n",
    "**DATA:** Ride data downloaded from personal Zwift account.<br>\n",
    "**ANALYSIS:** Exploratory data analysis; Bayesian modeling.<br>\n",
    "**ETHICAL CONSIDERATIONS:** There are no apparent issues with transparency, accountability, or equity in terms of avaiable data. To avoid any unforseen privacy issues, I will not be posting the raw ride data on Github. I will do my best to characterize the data in this Notebook to justify any insights drawn from the analyses.<br>\n",
    "**ADDITIONAL CONSIDERATIONS:** None.<br>"
   ]
  },
  {
   "cell_type": "markdown",
   "metadata": {},
   "source": [
    "## Load libraries"
   ]
  },
  {
   "cell_type": "code",
   "execution_count": null,
   "metadata": {},
   "outputs": [],
   "source": [
    "import os\n",
    "\n",
    "# data wrangling/analysis\n",
    "import fitdecode\n",
    "import pandas as pd\n",
    "import numpy as np\n",
    "\n",
    "# data visualization\n",
    "import matplotlib.pyplot as plt\n",
    "import seaborn as sns"
   ]
  },
  {
   "cell_type": "markdown",
   "metadata": {},
   "source": [
    "I am going to follow [this tutorial](https://towardsdatascience.com/parsing-fitness-tracker-data-with-python-a59e7dc17418) to parse .fit files (downloaded from Zwift) using the [`fitdecode`](https://pypi.org/project/fitdecode/) library."
   ]
  }
 ],
 "metadata": {
  "kernelspec": {
   "display_name": "Python 3",
   "language": "python",
   "name": "python3"
  },
  "language_info": {
   "codemirror_mode": {
    "name": "ipython",
    "version": 3
   },
   "file_extension": ".py",
   "mimetype": "text/x-python",
   "name": "python",
   "nbconvert_exporter": "python",
   "pygments_lexer": "ipython3",
   "version": "3.8.5"
  }
 },
 "nbformat": 4,
 "nbformat_minor": 4
}

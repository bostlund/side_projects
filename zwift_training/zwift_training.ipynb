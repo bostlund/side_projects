{
 "cells": [
  {
   "cell_type": "markdown",
   "metadata": {},
   "source": [
    "# Training with Zwift\n",
    "\n",
    "> \"Every time I see an adult on a bicycle, I no longer despair for the future of the human race.\" \n",
    "<br>**H. G. Wells**<br><br>\n",
    "“Learn to ride a bicycle. You will not regret it if you live.” \n",
    "<br>**Mark Twain**"
   ]
  },
  {
   "cell_type": "markdown",
   "metadata": {},
   "source": [
    "Biking is the only childhood hobby I've continued to enjoy throughout my life. I remember riding in the local Fourth of July parade in elementary school. As a college freshman, I salvaged a '70s Univega (\"Maria\"), building it up from the frame and customizing it for the next few years. I rode that bike everywhere. It was stolen while I was in grad school; plucked off the porch at a BBQ. Since then, I've had a [2017 Fuji Touring Bike](https://www.cyclingabout.com/2017-fuji-touring-bike/) (\"björn\"). björn has never failed me. \n",
    "\n",
    "Most of my riding over the past few years has been indoors due to COVID and a shoulder injury. I joined [Zwift](https://us.zwift.com/) last year on the recommendation of a friend. Zwift gamifies bike training by offering an array of virtual routes that vary in difficulty. I'm currently using the app to train for a bikepack trip [~1400 miles along the Pacific Coast](https://www.adventurecycling.org/routes-and-maps/adventure-cycling-route-network/pacific-coast/) next summer. \n",
    "\n",
    "One of Zwift's best features is their ability to create insightful visualizations from user data, acquired from a bluetooth-enabled bike trainer. I recently learned that users can download their ride data, providing an opportunity to further characterize my training experience.<br><br>\n",
    "\n",
    "**GOAL:** *(1)* Characterize bike training patterns over time, starting from March 1, 2022; and *(2)* describe anticipated level of functioning on May 1, 2023.<br>\n",
    "**DATA:** Ride data downloaded from personal Zwift (v5.62) account.<br>\n",
    "**ANALYSIS:** Exploratory data analysis; Bayesian modeling.<br>\n",
    "**ETHICAL CONSIDERATIONS:** There are no apparent issues with transparency, accountability, or equity in terms of avaiable data. To avoid any unforseen privacy issues, I will not be posting the raw ride data on Github. I will do my best to characterize the data in this Notebook to justify any insights drawn from the analyses.<br>\n",
    "**ADDITIONAL CONSIDERATIONS:** None.<br>"
   ]
  },
  {
   "cell_type": "markdown",
   "metadata": {},
   "source": [
    "## Load libraries"
   ]
  },
  {
   "cell_type": "code",
   "execution_count": 1,
   "metadata": {},
   "outputs": [],
   "source": [
    "import os\n",
    "\n",
    "# data wrangling/analysis\n",
    "import pandas as pd\n",
    "import numpy as np\n",
    "\n",
    "# data visualization\n",
    "import matplotlib.pyplot as plt\n",
    "import seaborn as sns\n",
    "\n",
    "# zwift file mgmt\n",
    "import fitdecode\n",
    "from datetime import datetime, timedelta\n",
    "from typing import Dict, Union, Optional,Tuple"
   ]
  },
  {
   "cell_type": "markdown",
   "metadata": {},
   "source": [
    "\"For the data we will be getting from the FIT data, we use the same name as the field names to make it easier to parse the data.\"\n",
    "\n",
    "\"Create DataFrames from the data we have collected. If any information is missing from a particular lap or track point, it will show up as a null value or \"NaN\" in the DataFrame.\"\n",
    "    \n",
    "\n",
    "> ***\n",
    "`file_id` serial_number, time_created, manufacturer, product, number, type\n",
    "> ***\n",
    "`device_info` timestamp, serial_number, cum_operating_time, manufacturer, product, software_version, battery_voltage, device_index, device_type, hardware_version, battery_status\n",
    "> ***\n",
    "`event` timestamp, timer_trigger, timer_trigger, data16, event, event_type, event_group\n",
    "\n",
    "**Note:** There is an `event` frame at the beginning and end of the second-by-second `record` frames.\n",
    "> ***\n",
    "`record`  ***timestamp***, position_lat, position_long, ***distance***, time_from_course, ***speed***, distance, compressed_speed_distance, heart_rate, enhanced_altitude, ***altitude***, enhanced_speed, speed, ***power, grade, cadence***, resistance, cycle_length, temperature\n",
    "\n",
    "**Note:** There is a `record` frame for each second of data recorded.\n",
    "> ***\n",
    "`lap` timestamp, ***start_time***, start_position_lat, start_position_long, end_position_lat, end_position_long, total_elapsed_time, ***total_timer_time, total_distance***, total_strokes, message_index, total_calories, total_fat_calories, enhanced_avg_speed, ***avg_speed***, enhanced_max_speed, ***max_speed, avg_power, max_power, total_ascent, total_descent***, event, event_type, avg_heart_rate, max_heart_rate, ***avg_cadence, max_cadence***, intensity, lap_trigger, sport, event_group\n",
    "> ***\n",
    "`session` timestamp, ***start_time***, start_position_lat, start_position_long, total_elapsed_time, ***total_timer_time, total_distance***, total_strokes, nec_lat, nec_long, swc_lat, swc_long, message_index, total_calories, total_fat_calories, enhanced_avg_speed, ***avg_speed***, enhanced_max_speed, ***max_speed, avg_power, max_power, total_ascent, total_descent***, first_lap_index, num_laps, event, event_type, sport, sub_sport, avg_heart_rate, max_heart_rate, ***avg_cadence, max_cadence***, total_training_effect, event_group, trigger\n",
    "> ***\n",
    "`activity` timestamp, total_timer_time, local_timestamp, num_sessions, type, event, event_type, event_group\n",
    "***\n",
    "\n",
    "Data in these fields can be accessed using the `fitdecode` argument `get_values`. Most of the data in these fields are either redundant or irrelevant to me right now. Summary data from the training session is located in the `lap` and `session` frames, which contain many of the same variables. Summary statistics, like those reported in the `lap` and `session` fields, can be calculated from the second-by-second `record` data. Because of that, I am only going to extract data from the `record` field. \n",
    "\n",
    "I followed [this tutorial](https://towardsdatascience.com/parsing-fitness-tracker-data-with-python-a59e7dc17418) and  adjusted [this accompanying code](https://github.com/bunburya/fitness_tracker_data_parsing/blob/main/parse_fit.py) to parse the .fit files downloaded from Zwift. "
   ]
  },
  {
   "cell_type": "code",
   "execution_count": 2,
   "metadata": {},
   "outputs": [],
   "source": [
    "# define path to .fit file\n",
    "file = os.getcwd() + '/2022-07-16-07-47-29.fit'"
   ]
  },
  {
   "cell_type": "code",
   "execution_count": 3,
   "metadata": {},
   "outputs": [],
   "source": [
    "# Column names for the second-by-second data dataframe\n",
    "RECORD_COLUMN_NAMES = ['timestamp', 'distance', 'speed', 'altitude', 'power', 'grade', 'cadence']"
   ]
  },
  {
   "cell_type": "code",
   "execution_count": 4,
   "metadata": {},
   "outputs": [],
   "source": [
    "def get_record_data(frame: fitdecode.records.FitDataMessage) -> Dict[str, Union[float, datetime, timedelta, int]]:\n",
    "    \"\"\"\n",
    "    Extract some data from a FIT frame representing a record and return it as a dict.\n",
    "    \"\"\"\n",
    "    data: Dict[str, Union[float, datetime, timedelta, int]] = {}\n",
    "    \n",
    "    for field in RECORD_COLUMN_NAMES:  \n",
    "        if frame.has_field(field):\n",
    "            data[field] = frame.get_value(field)\n",
    "    \n",
    "    return data"
   ]
  },
  {
   "cell_type": "code",
   "execution_count": 5,
   "metadata": {},
   "outputs": [],
   "source": [
    "def get_dataframe(fname: str) -> Tuple[pd.DataFrame]:\n",
    "    \"\"\"\n",
    "    Takes the path to a FIT file (as a string) and returns two Pandas\n",
    "    DataFrames: one containing data about the recorded second (RECORD), \n",
    "    and one containing data about the overall session (SESSION).\n",
    "    \"\"\"\n",
    "    record_data = []\n",
    "    record_no = 1\n",
    "    with fitdecode.FitReader(fname) as fit_file:\n",
    "        for frame in fit_file:\n",
    "            if isinstance(frame, fitdecode.records.FitDataMessage):\n",
    "                if frame.name == 'record':\n",
    "                    single_record_data = get_record_data(frame)\n",
    "                    single_record_data['number'] = record_no\n",
    "                    record_data.append(single_record_data)\n",
    "                    record_no += 1\n",
    "    \n",
    "    record_df = pd.DataFrame(record_data, columns=RECORD_COLUMN_NAMES)\n",
    "    #record_df.set_index('number', inplace=True)\n",
    "    \n",
    "    return record_df"
   ]
  },
  {
   "cell_type": "code",
   "execution_count": 6,
   "metadata": {},
   "outputs": [
    {
     "name": "stdout",
     "output_type": "stream",
     "text": [
      "RECORD:\n",
      "                     timestamp  distance speed  altitude  power grade  cadence\n",
      "0    2022-07-16 11:47:43+00:00      2.40  None      12.8     78  None       22\n",
      "1    2022-07-16 11:47:44+00:00      4.17  None      12.8     78  None       49\n",
      "2    2022-07-16 11:47:45+00:00      6.39  None      12.8     78  None       49\n",
      "3    2022-07-16 11:47:46+00:00      8.98  None      12.8     92  None       49\n",
      "4    2022-07-16 11:47:47+00:00     11.92  None      12.8     92  None       49\n",
      "...                        ...       ...   ...       ...    ...   ...      ...\n",
      "2640 2022-07-16 12:31:46+00:00  22896.36  None      13.8      0  None        0\n",
      "2641 2022-07-16 12:31:47+00:00  22897.31  None      13.8      0  None        0\n",
      "2642 2022-07-16 12:31:48+00:00  22897.57  None      13.8      0  None        0\n",
      "2643 2022-07-16 12:31:49+00:00  22897.57  None      13.8      0  None        0\n",
      "2644 2022-07-16 12:31:50+00:00  22897.57  None      13.8      0  None        0\n",
      "\n",
      "[2645 rows x 7 columns]\n"
     ]
    }
   ],
   "source": [
    "if __name__ == '__main__':\n",
    "    \n",
    "    fname = file  # Path to FIT file\n",
    "    record_df = get_dataframe(fname)\n",
    "    print('RECORD:')\n",
    "    print(record_df)"
   ]
  },
  {
   "cell_type": "code",
   "execution_count": null,
   "metadata": {},
   "outputs": [],
   "source": []
  }
 ],
 "metadata": {
  "kernelspec": {
   "display_name": "Python 3",
   "language": "python",
   "name": "python3"
  },
  "language_info": {
   "codemirror_mode": {
    "name": "ipython",
    "version": 3
   },
   "file_extension": ".py",
   "mimetype": "text/x-python",
   "name": "python",
   "nbconvert_exporter": "python",
   "pygments_lexer": "ipython3",
   "version": "3.8.5"
  }
 },
 "nbformat": 4,
 "nbformat_minor": 4
}
